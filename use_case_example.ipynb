{
 "cells": [
  {
   "cell_type": "markdown",
   "id": "b95f9fc1-6036-4302-ab39-64d20f016b04",
   "metadata": {},
   "source": [
    "## Corpus Generation via ABsynth"
   ]
  },
  {
   "cell_type": "markdown",
   "id": "5db42f3f-6d8d-4ad1-b969-85fd7de2270c",
   "metadata": {},
   "source": [
    "### Import the absynth corpus generator"
   ]
  },
  {
   "cell_type": "code",
   "execution_count": 1,
   "id": "86eb5af2-bdd8-4168-ac64-024bca047665",
   "metadata": {},
   "outputs": [],
   "source": [
    "from absynth.lexicon import Vocabulary, LexiconGenerator\n",
    "from absynth.sentence import SentenceGenerator, FrameManager\n",
    "from absynth.corpus import SyntheticCorpusGenerator\n",
    "from absynth.visualization import Visualizer"
   ]
  },
  {
   "cell_type": "markdown",
   "id": "6dece891-c811-4241-9189-02d32df6deca",
   "metadata": {},
   "source": [
    "### Create generator with default settings"
   ]
  },
  {
   "cell_type": "code",
   "execution_count": null,
   "id": "f99bf811-7594-44fa-ab15-a3ab2c520695",
   "metadata": {},
   "outputs": [],
   "source": [
    "generator_default = SyntheticCorpusGenerator()\n",
    "corpus_default = generator_default.generate_corpus(num_sentences=2000)"
   ]
  },
  {
   "cell_type": "markdown",
   "id": "387a8008-5aae-46de-9658-9f40d8d4fc14",
   "metadata": {},
   "source": [
    "### Create generator with custom settings"
   ]
  },
  {
   "cell_type": "code",
   "execution_count": null,
   "id": "90960d4e-6384-4aa4-8a46-bfe2dc013482",
   "metadata": {},
   "outputs": [],
   "source": [
    "# Create generator with custom settings \n",
    "vocab = Vocabulary({\n",
    "    \"noun\":300, \"transitive_verb\":40, \"intransitive_verb\":25, \n",
    "    \"communication_verb\":20, \"motion_verb\":20, \"change_verb\":15, \"adjective\":40, \n",
    "    \"adverb\":25, \"location\":150, \"temporal\":35, \"instrument\":25, \"preposition\":15, \n",
    "    \"conjunction\":10, \"determiner\":8\n",
    "})"
   ]
  },
  {
   "cell_type": "code",
   "execution_count": null,
   "id": "f952f842-2c73-4422-a063-d260dbd48263",
   "metadata": {},
   "outputs": [],
   "source": [
    "lexicon = LexiconGenerator(\n",
    "    vocab_sizes=vocab,           # Custom vocabulary sizes\n",
    "    num_clusters=5,              # Number of semantic clusters to create\n",
    "    zipfian_alpha=1.05,             # Alpha parameter for Zipfian distribution\n",
    "    error_bias=0.00001,              # Error bias for word generation\n",
    "    random_seed=42               # For reproducible generation\n",
    ")"
   ]
  },
  {
   "cell_type": "code",
   "execution_count": null,
   "id": "6df43c30-8a8f-472c-98b1-d0a71f0c7833",
   "metadata": {},
   "outputs": [],
   "source": [
    "templates = FrameManager()\n",
    "sentence_generator = SentenceGenerator(lexicon, templates)\n",
    "generator_custom = SyntheticCorpusGenerator(lexicon=lexicon, sentence_generator=sentence_generator)"
   ]
  },
  {
   "cell_type": "code",
   "execution_count": null,
   "id": "f0b38a02-5654-4ef8-a2bf-18cdac051dba",
   "metadata": {},
   "outputs": [],
   "source": [
    "corpus_custom = generator_custom.generate_corpus(\n",
    "    num_sentences=2000,\n",
    "    complexity_distribution={\"simple\": 0.55, \"medium\": 0.35, \"complex\": 0.10},\n",
    "    semantic_frame_distribution={\n",
    "        \"transitive_action\": 0.1,\n",
    "        \"transitive_with_location\": 0.15,\n",
    "        \"motion_with_source\": 0.15,\n",
    "        \"temporal_action\": 0.15,\n",
    "        \"instrumental_action\": 0.15,\n",
    "        \"multi_action\": 0.15,\n",
    "        \"temporal_complex\": 0.15,\n",
    "    }\n",
    ")"
   ]
  },
  {
   "cell_type": "markdown",
   "id": "f6769b04-55ee-434a-b2a8-881bc706d770",
   "metadata": {},
   "source": [
    "### Evaluate quality"
   ]
  },
  {
   "cell_type": "code",
   "execution_count": null,
   "id": "f91fea85-8b09-4516-bbb2-f993207279fc",
   "metadata": {},
   "outputs": [],
   "source": [
    "evaluation_default = generator_default.evaluate_corpus(corpus_default, calculate_suitability=True)"
   ]
  },
  {
   "cell_type": "code",
   "execution_count": null,
   "id": "1fa8c894-762f-44bf-875f-59ffc523b05a",
   "metadata": {},
   "outputs": [],
   "source": [
    "evaluation_custom = generator_custom.evaluate_corpus(corpus_custom, calculate_suitability=True)"
   ]
  },
  {
   "cell_type": "markdown",
   "id": "4a3b3be7-e182-498d-826a-5192736444ba",
   "metadata": {},
   "source": [
    "### Save corpus\n"
   ]
  },
  {
   "cell_type": "code",
   "execution_count": null,
   "id": "c5e28450-705c-4171-88b8-4f36ffbd609d",
   "metadata": {},
   "outputs": [],
   "source": [
    "corpus_custom.save(\"corpus_full.json\", indent=2)\n",
    "corpus_custom.export(\"corpus_semantic.json\", format=\"semantic_annotations\", indent=2) \n",
    "corpus_custom.export(\"corpus_sentences.json\", format=\"sentences_only\", indent=2)"
   ]
  },
  {
   "cell_type": "markdown",
   "id": "395c7fd8-e287-455b-92f1-88905cc55f4c",
   "metadata": {},
   "source": [
    "### Visualize the corpus statistics"
   ]
  },
  {
   "cell_type": "code",
   "execution_count": null,
   "id": "33c89886-59e2-40fe-91cc-da0174bbe5b7",
   "metadata": {},
   "outputs": [],
   "source": [
    "visualizer = Visualizer(log_dir='./plots')\n",
    "visualizer.visualize(corpus_default)"
   ]
  },
  {
   "cell_type": "code",
   "execution_count": null,
   "id": "cb56e4d1-240c-45a0-99f1-05b0b05b697e",
   "metadata": {},
   "outputs": [],
   "source": [
    "visualizer = Visualizer(log_dir='./plots')\n",
    "visualizer.visualize(corpus_custom)"
   ]
  },
  {
   "cell_type": "markdown",
   "id": "d5b35f4e-f153-4ed0-944f-7396fe7971b0",
   "metadata": {},
   "source": [
    "# TRACE for Model Analysis"
   ]
  },
  {
   "cell_type": "markdown",
   "id": "72551d31-d91b-4b35-acb0-012d69c25ea8",
   "metadata": {},
   "source": [
    "## Tokenizer creation and data loading "
   ]
  },
  {
   "cell_type": "code",
   "execution_count": null,
   "id": "6457b520-3af9-4d7e-b1a5-d4dba3f163a8",
   "metadata": {},
   "outputs": [],
   "source": [
    "from trace.tokenizer import create_tokenizer_from_data\n",
    "CORPUS_PATH = \"./data/corpus.json\"  \n",
    "tokenizer = create_tokenizer_from_data(vocab_file=CORPUS_PATH)  \n",
    "VOCAB_SIZE = tokenizer.get_vocab_size()"
   ]
  },
  {
   "cell_type": "code",
   "execution_count": null,
   "id": "5bccd5be-1944-417a-a6a3-7a93d59ca612",
   "metadata": {},
   "outputs": [],
   "source": [
    "from trace.dataloader import get_dataloader\n",
    "train_loader, val_loader, test_loader = get_dataloader(\n",
    "    corpus_path=CORPUS_PATH,\n",
    "    tokenizer=tokenizer,\n",
    "    batch_size=32,\n",
    "    max_length=16,\n",
    "    val_split=0.1,\n",
    "    test_split=0.1\n",
    ")"
   ]
  },
  {
   "cell_type": "markdown",
   "id": "bae771c9-fe1f-4a5a-8daa-7396cc67335e",
   "metadata": {},
   "source": [
    "## Building a transformer "
   ]
  },
  {
   "cell_type": "code",
   "execution_count": null,
   "id": "265c1b9d-d852-434c-99b3-557f84d61841",
   "metadata": {},
   "outputs": [],
   "source": [
    "# Create transformer model\n",
    "from trace.transformer import Transformer, TransformerConfig\n",
    "\n",
    "model_config = TransformerConfig(\n",
    "    model_type=\"decoder_only\",  # \"encoder_only\", \"decoder_only\", \"encoder_decoder\"\n",
    "    vocab_size=VOCAB_SIZE,\n",
    "    d_model=96,  # Hidden dimension\n",
    "    num_heads=3,  # Attention heads\n",
    "    num_decoder_layers=2,  # Number of layers\n",
    "    d_ff=384,  # Feed-forward dimension\n",
    "    max_seq_length=16,  # Maximum sequence length\n",
    "    dropout=0.1,\n",
    "    device=\"cpu\"  # \"cpu\" or \"cuda\"\n",
    ")"
   ]
  },
  {
   "cell_type": "code",
   "execution_count": null,
   "id": "a49d489c-b07f-4001-b280-2956536583a9",
   "metadata": {},
   "outputs": [],
   "source": [
    "model = Transformer.from_config(model_config)"
   ]
  },
  {
   "cell_type": "code",
   "execution_count": null,
   "id": "411415ab-f2aa-4684-a01b-c7fe5e01cf2b",
   "metadata": {},
   "outputs": [],
   "source": [
    "model"
   ]
  },
  {
   "cell_type": "markdown",
   "id": "d5d06ca9-9d0a-4e3e-92e2-9214ea79dc23",
   "metadata": {},
   "source": [
    "## Training configuration "
   ]
  },
  {
   "cell_type": "code",
   "execution_count": null,
   "id": "b98b92a5-2aa3-4ebd-ae54-e16a89e8e593",
   "metadata": {},
   "outputs": [],
   "source": [
    "from trace.training import Trainer, TrainingConfig\n",
    "\n",
    "# All tacking is enabled \n",
    "training_config_default = TrainingConfig(\n",
    "    epochs=30,\n",
    "    learning_rate=1e-3,\n",
    "    batch_size=128,\n",
    "    device=\"cpu\",\n",
    ")"
   ]
  },
  {
   "cell_type": "code",
   "execution_count": null,
   "id": "98dbafbc-e4c9-40ec-8f45-d9f684b26bd5",
   "metadata": {},
   "outputs": [],
   "source": [
    "training_config_custom = TrainingConfig(\n",
    "    epochs=3,\n",
    "    learning_rate=1e-3,\n",
    "    batch_size=128,\n",
    "    device=\"cpu\",\n",
    "\n",
    "    # Analysis modules (enable all)\n",
    "    track_hessian=False,  # Loss landscape analysis\n",
    "    track_linguistic_probes=False,  # POS probing  \n",
    "    track_semantic_probes=False,  # Semantic role probing\n",
    "    track_intrinsic_dimensions=True,  # Representation dimensionality\n",
    "    track_pos_performance=False,  # Output POS accuracy\n",
    "    track_semantic_roles_performance=False,  # Output semantic accuracy\n",
    "\n",
    "    # Analysis frequency and visualization\n",
    "    track_interval=500,  # Analyze every 500 steps\n",
    "    save_visualization=True,  # Generate plots\n",
    "    show_plots=True,\n",
    "    plots_path=\"./analysis_results\"  # Save results here\n",
    ")"
   ]
  },
  {
   "cell_type": "code",
   "execution_count": null,
   "id": "f1a66155-2019-4b4d-8a05-927ded7d37f3",
   "metadata": {},
   "outputs": [],
   "source": [
    "trainer = Trainer(training_config_custom, tokenizer, model)"
   ]
  },
  {
   "cell_type": "markdown",
   "id": "7af4cc14-3429-4280-a175-faf37b255ca1",
   "metadata": {},
   "source": [
    "## Running Trace"
   ]
  },
  {
   "cell_type": "code",
   "execution_count": null,
   "id": "d0f39ae9-5d79-4f8a-a90a-cef8607bcb0e",
   "metadata": {},
   "outputs": [],
   "source": [
    "best_loss, analysis_results = trainer.train(\n",
    "    train_loader=train_loader,\n",
    "    val_loader=val_loader,\n",
    "    test_loader=test_loader,\n",
    ")"
   ]
  },
  {
   "cell_type": "code",
   "execution_count": null,
   "id": "fcaf12ae-2adc-4366-9c54-8f72dcd70baf",
   "metadata": {},
   "outputs": [],
   "source": []
  }
 ],
 "metadata": {
  "kernelspec": {
   "display_name": "Python 3 (ipykernel)",
   "language": "python",
   "name": "python3"
  },
  "language_info": {
   "codemirror_mode": {
    "name": "ipython",
    "version": 3
   },
   "file_extension": ".py",
   "mimetype": "text/x-python",
   "name": "python",
   "nbconvert_exporter": "python",
   "pygments_lexer": "ipython3",
   "version": "3.11.13"
  }
 },
 "nbformat": 4,
 "nbformat_minor": 5
}
